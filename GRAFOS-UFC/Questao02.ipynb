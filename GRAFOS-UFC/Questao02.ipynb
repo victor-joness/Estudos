{
 "cells": [
  {
   "cell_type": "code",
   "execution_count": 10,
   "metadata": {},
   "outputs": [
    {
     "name": "stdout",
     "output_type": "stream",
     "text": [
      "Diâmetro: 9\n",
      "Caminho do diâmetro: [3, 5, 6]\n"
     ]
    }
   ],
   "source": [
    "class Digrafo:\n",
    "    def __init__(self, vertices):\n",
    "        self.V = vertices\n",
    "        self.grafo = {}\n",
    "    \n",
    "    #funcao que adiciona arestas ao grafo\n",
    "    def adicionarAresta(self, u, v, peso):\n",
    "        if u not in self.grafo:\n",
    "            self.grafo[u] = []\n",
    "        self.grafo[u].append({'v': v, 'peso': peso})\n",
    "    \n",
    "    #calcula o menor caminho a partir da fonte/origem\n",
    "    def bellmanFord(self, origem): \n",
    "        dist = {}\n",
    "        antecessor = {}\n",
    "        \n",
    "        dist[origem] = 0\n",
    "        \n",
    "        for i in range(1, self.V - 1):\n",
    "            for u in self.grafo:\n",
    "                if u in dist:\n",
    "                    for j in range(len(self.grafo[u])):\n",
    "                        v = self.grafo[u][j]['v']\n",
    "                        peso = self.grafo[u][j]['peso']\n",
    "                        if v not in dist or dist[u] + peso < dist[v]:\n",
    "                            dist[v] = dist[u] + peso\n",
    "                            antecessor[v] = u\n",
    "        \n",
    "        destino = max(dist, key=dist.get)\n",
    "        \n",
    "        # Verifica se há ciclos de peso negativo\n",
    "        for u in self.grafo:\n",
    "            if u in dist:\n",
    "                for j in range(len(self.grafo[u])):\n",
    "                    v = self.grafo[u][j]['v']\n",
    "                    peso = self.grafo[u][j]['peso']\n",
    "                    if dist[u] + peso < dist[v]:\n",
    "                        print(\"O dígrafo contém ciclos de peso negativo.\")\n",
    "                        return\n",
    "        \n",
    "        # Constrói o caminho do diâmetro\n",
    "        caminho = []\n",
    "        v = destino\n",
    "        while v is not None:\n",
    "            caminho.insert(0, v)\n",
    "            v = antecessor.get(v)\n",
    "\n",
    "        return {'diametro': dist[destino], 'caminho': caminho}\n",
    "\n",
    "\n",
    "# Exemplo de uso\n",
    "digrafo = Digrafo(9)\n",
    "digrafo.adicionarAresta(0, 1, 2)\n",
    "digrafo.adicionarAresta(0, 2, 3)\n",
    "\n",
    "digrafo.adicionarAresta(1, 3, 3)\n",
    "digrafo.adicionarAresta(1, 2, 4)\n",
    "\n",
    "digrafo.adicionarAresta(2, 4, 2)\n",
    "digrafo.adicionarAresta(2, 1, 1)\n",
    "\n",
    "digrafo.adicionarAresta(3, 5, 4)\n",
    "\n",
    "digrafo.adicionarAresta(4, 5, 1)\n",
    "\n",
    "digrafo.adicionarAresta(5, 6, 5)\n",
    "\n",
    "resultado = digrafo.bellmanFord(3)\n",
    "diametro = resultado['diametro']\n",
    "caminho = resultado['caminho']\n",
    "print(\"Diâmetro:\", diametro)\n",
    "print(\"Caminho do diâmetro:\", caminho)\n"
   ]
  }
 ],
 "metadata": {
  "kernelspec": {
   "display_name": "Python 3",
   "language": "python",
   "name": "python3"
  },
  "language_info": {
   "codemirror_mode": {
    "name": "ipython",
    "version": 3
   },
   "file_extension": ".py",
   "mimetype": "text/x-python",
   "name": "python",
   "nbconvert_exporter": "python",
   "pygments_lexer": "ipython3",
   "version": "3.11.0"
  },
  "orig_nbformat": 4
 },
 "nbformat": 4,
 "nbformat_minor": 2
}
